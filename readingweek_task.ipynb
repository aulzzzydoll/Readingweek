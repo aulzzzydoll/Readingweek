{
 "cells": [
  {
   "cell_type": "markdown",
   "metadata": {},
   "source": [
    "\n",
    "## This notebook uses the data from  Joint Light Curve Analysis (JLA) of the SDSS-II and SNLS supernova samples Betoule et al. (2014). to estimate a value for hubble constant using various method\n"
   ]
  },
  {
   "cell_type": "markdown",
   "metadata": {},
   "source": [
    "## equation that will be needed\n",
    "### code in this cell copied from SupplementaryNotebookRW2020(Louise Dash, Ben Waugh)\n",
    "Equation (1):\n",
    "$$ v = H_0 D $$ \n",
    "\n",
    "Equation (2): \n",
    "$$ w_i = \\frac{1}{(\\Delta y_i)^2} $$\n",
    "\n",
    "Equations (3,4): \n",
    "$$  m = \\frac{\\sum_i w_i \\sum_i w_i x_i y_i - \\sum_i w_i x_i \\sum_i w_i\n",
    "y_i}{\\sum_i w_i \\sum_i w_i x_i^2 - \\left(\\sum_i w_i x_i \\right)^2}\\\\\n",
    "= \\frac{\\sum_i w_i \\sum_i w_i x_i y_i - \\sum_i w_i x_i \\sum_i w_i\n",
    "y_i}{\\delta} $$\n",
    "    \n",
    "Equation (5):\n",
    "$$ c = \\frac{\\sum_i w_i x_i^2 \\sum_i w_i y_i - \\sum_i w_i x_i \\sum_i w_i x_i y_i}{\\delta} $$\n",
    "\n",
    "Equation (6):\n",
    "$$ \\delta = \\sum_i w_i \\sum_i w_i x_i^2 - \\left(\\sum_i w_i x_i \\right)^2 $$\n",
    "\n",
    "Equation (7): \n",
    "$$ \\Delta m = \\sqrt{ \\frac{\\sum_i w_i}{\\delta}} $$\n",
    "\n",
    "Equation (8):\n",
    "$$ \\Delta c = \\sqrt{ \\frac{\\sum_i x_i^2 w_i}{\\delta}} $$"
   ]
  },
  {
   "cell_type": "markdown",
   "metadata": {},
   "source": [
    "## (1)"
   ]
  },
  {
   "cell_type": "code",
   "execution_count": 1,
   "metadata": {},
   "outputs": [
    {
     "data": {
      "text/plain": [
       "<matplotlib.legend.Legend at 0x7fd168ecee50>"
      ]
     },
     "execution_count": 1,
     "metadata": {},
     "output_type": "execute_result"
    },
    {
     "data": {
      "image/png": "[encoded data removed]",
      "text/plain": [
       "<Figure size 432x288 with 1 Axes>"
      ]
     },
     "metadata": {
      "needs_background": "light"
     },
     "output_type": "display_data"
    }
   ],
   "source": [
    "import numpy as np\n",
    "import matplotlib.pyplot as plt\n",
    "\n",
    "##import data file\n",
    "velocity,distance,error_distance=np.loadtxt(\"hubble_data.csv\",delimiter=',',skiprows=0,unpack=True) \n",
    "##plot the unweighted data with error bar\n",
    "plt.errorbar(velocity,distance,yerr=error_distance/2,fmt='.',label='data with error bar',\n",
    "            elinewidth=0.7,capsize=3)\n",
    "## add labels\n",
    "plt.xlabel('$velocity/kms{-1}$')  \n",
    "plt.ylabel('distance/Mpc')\n",
    "plt.legend(loc=2) ## legend location\n",
    "\n"
   ]
  },
  {
   "cell_type": "markdown",
   "metadata": {},
   "source": [
    "## (2)\n",
    "### using Lemaitre's procudure with Equation(x) to calculate an estimation of Hubble's constant with unweighted and weighted data \n",
    "\n",
    "## (a)\n",
    "### according to the equation 𝑣=𝐻0𝐷, making D for y-value, D=𝑣/H0, the gradient of best fit line is the reciprocal of Hubble's constant\n"
   ]
  },
  {
   "cell_type": "markdown",
   "metadata": {},
   "source": []
  },
  {
   "cell_type": "code",
   "execution_count": 82,
   "metadata": {},
   "outputs": [],
   "source": [
    "## code of the function is adapted from my task 5 assignment\n",
    "from math import sqrt\n",
    "def unweighted_fitting(x,y):\n",
    "    meanx=np.mean(x)\n",
    "    meany=np.mean(y)\n",
    "    m= np.sum(((x-meanx)*y)/np.sum((x-meanx)**2)) #calculate the slope\n",
    "    c= meany-meanx*m #calculate the intercept\n",
    "    # to sum up S and D according to the equation\n",
    "    S=np.sum((y-m*x-c)**2)\n",
    "    D=np.sum((x-meanx)**2)\n",
    "\n",
    "    # calculate the error for m and c   \n",
    "    error_m=sqrt(S/((len(x)-2)*D))\n",
    "    error_c=sqrt((1/(len(x))+meanx**2/D)*(S/(len(x)-2)))\n",
    "    \n",
    "    fitx=np.linspace(x[0],x[-1],len(x)-1) #set an array of x value according to the array passed to the function\n",
    "    fity=np.array(c+fitx*m)   #set an array for y value for the best fit line \n",
    "    \n",
    "    plt.plot(fitx,fity,label='best fit line')    #plot the best fit line\n",
    "    plt.legend()\n",
    "\n",
    "    #then output the calculated value\n",
    "    print(f\"the best fit line has slope \\n{m:0} ±{error_m:0} Mpc s kmˆ-1 \\nand intercept \\n{c:0} ±{error_c:0} Mpc\",)\n",
    "    print('\\n')\n",
    "    print( f\"The equation of the best fit line is: y = ({m:0.2} ± {error_m:0.1})x + ({c:0.2} ± {error_c:0.1})\")\n",
    "    return  (m,error_m,c,error_c) #return the calculated value in case they are needed\n",
    "   \n",
    "    \n"
   ]
  },
  {
   "cell_type": "code",
   "execution_count": 83,
   "metadata": {},
   "outputs": [
    {
     "name": "stdout",
     "output_type": "stream",
     "text": [
      "the best fit line has slope \n",
      "0.015979397311965605 ±0.00022065881058272276 Mpc s kmˆ-1 \n",
      "and intercept \n",
      "-11.624040905828451 ±4.078725830535065 Mpc\n",
      "\n",
      "\n",
      "The equation of the best fit line is: y = (0.016 ± 0.0002)x + (-1.2e+01 ± 4e+00)\n"
     ]
    },
    {
     "data": {
      "text/plain": [
       "(0.015979397311965605,\n",
       " 0.00022065881058272276,\n",
       " -11.624040905828451,\n",
       " 4.078725830535065)"
      ]
     },
     "execution_count": 83,
     "metadata": {},
     "output_type": "execute_result"
    },
    {
     "data": {
      "image/png": "[encoded data removed]",
      "text/plain": [
       "<Figure size 432x288 with 1 Axes>"
      ]
     },
     "metadata": {
      "needs_background": "light"
     },
     "output_type": "display_data"
    }
   ],
   "source": [
    "unweighted_fitting(velocity,distance) ## call the function using data from file"
   ]
  },
  {
   "cell_type": "markdown",
   "metadata": {},
   "source": [
    "## (b)"
   ]
  },
  {
   "cell_type": "markdown",
   "metadata": {},
   "source": [
    "#### below is a function that consider the weight of each data and calculate the corresponding fit line using \n",
    "Equation (2): \n",
    "$$ w_i = \\frac{1}{(\\Delta y_i)^2} $$\n",
    "\n",
    "Equations (3,4): \n",
    "$$  m = \\frac{\\sum_i w_i \\sum_i w_i x_i y_i - \\sum_i w_i x_i \\sum_i w_i\n",
    "y_i}{\\sum_i w_i \\sum_i w_i x_i^2 - \\left(\\sum_i w_i x_i \\right)^2}\\\\\n",
    "= \\frac{\\sum_i w_i \\sum_i w_i x_i y_i - \\sum_i w_i x_i \\sum_i w_i\n",
    "y_i}{\\delta} $$\n",
    "    \n",
    "Equation (5):\n",
    "$$ c = \\frac{\\sum_i w_i x_i^2 \\sum_i w_i y_i - \\sum_i w_i x_i \\sum_i w_i x_i y_i}{\\delta} $$\n",
    "\n",
    "Equation (6):\n",
    "$$ \\delta = \\sum_i w_i \\sum_i w_i x_i^2 - \\left(\\sum_i w_i x_i \\right)^2 $$\n",
    "\n",
    "Equation (7): \n",
    "$$ \\Delta m = \\sqrt{ \\frac{\\sum_i w_i}{\\delta}} $$\n",
    "\n",
    "Equation (8):\n",
    "$$ \\Delta c = \\sqrt{ \\frac{\\sum_i x_i^2 w_i}{\\delta}} $$"
   ]
  },
  {
   "cell_type": "code",
   "execution_count": 87,
   "metadata": {},
   "outputs": [],
   "source": [
    "def weighted_fitting(x,y,error):\n",
    "    wi=np.array(1/(error)**2)\n",
    "    delta=(np.sum(wi))*(np.sum(wi*x**2))-(np.sum(wi*x))**2\n",
    "    m=((np.sum(wi))*(np.sum(wi*x*y))-(np.sum(wi*y))*(np.sum(wi*y)))/delta\n",
    "    c=((np.sum(wi*x**2))*(np.sum(wi*y))-(np.sum(wi*x))*(np.sum(wi*x*y)))/delta\n",
    "    \n",
    "    "
   ]
  },
  {
   "cell_type": "code",
   "execution_count": null,
   "metadata": {},
   "outputs": [],
   "source": []
  }
 ],
 "metadata": {
  "kernelspec": {
   "display_name": "Python 3",
   "language": "python",
   "name": "python3"
  },
  "language_info": {
   "codemirror_mode": {
    "name": "ipython",
    "version": 3
   },
   "file_extension": ".py",
   "mimetype": "text/x-python",
   "name": "python",
   "nbconvert_exporter": "python",
   "pygments_lexer": "ipython3",
   "version": "3.7.6"
  }
 },
 "nbformat": 4,
 "nbformat_minor": 4
}
